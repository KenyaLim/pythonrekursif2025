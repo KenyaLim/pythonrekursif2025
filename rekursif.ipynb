{
 "cells": [
  {
   "cell_type": "code",
   "execution_count": 6,
   "id": "2600d455",
   "metadata": {},
   "outputs": [
    {
     "data": {
      "text/plain": [
       "False"
      ]
     },
     "execution_count": 6,
     "metadata": {},
     "output_type": "execute_result"
    }
   ],
   "source": [
    "#1 prima rekursif\n",
    "def primarekursif(n):\n",
    "    if n <= 1:\n",
    "        return False\n",
    "    elif n == 2:\n",
    "        return True\n",
    "    else:\n",
    "        for i in range(2, int(n**0.5) + 1):\n",
    "            if n % i == 0:\n",
    "                return False\n",
    "        return True\n",
    "    \n",
    "primarekursif(248)"
   ]
  },
  {
   "cell_type": "code",
   "execution_count": null,
   "id": "be87adc6",
   "metadata": {},
   "outputs": [
    {
     "name": "stdout",
     "output_type": "stream",
     "text": [
      "True\n",
      "True\n"
     ]
    }
   ],
   "source": [
    "#2 palindrom rekursif\n",
    "def palindromrekursif(s):\n",
    "    s = s.lower().replace(\" \", \"\")\n",
    "    if len(s) <= 1:\n",
    "        return True\n",
    "    elif s[0] != s[-1]:\n",
    "        return False\n",
    "    else:\n",
    "        return palindromrekursif(s[1:-1])\n",
    "print(palindromrekursif(\"Kasur ini rusak\"))  \n",
    "print(palindromrekursif(\"alucard dracula\")) "
   ]
  },
  {
   "cell_type": "code",
   "execution_count": 9,
   "id": "8c24b4c6",
   "metadata": {},
   "outputs": [
    {
     "name": "stdout",
     "output_type": "stream",
     "text": [
      "25\n"
     ]
    }
   ],
   "source": [
    "#3 deret ganjil rekursif\n",
    "def jumlah_deret_ganjil(n):\n",
    "    if n < 1:\n",
    "        return 0\n",
    "    else:\n",
    "        return (2 * n - 1) + jumlah_deret_ganjil(n - 1)\n",
    "print(jumlah_deret_ganjil(5))  # Output: 25 (1 + 3 + 5 + 7 + 9)"
   ]
  },
  {
   "cell_type": "code",
   "execution_count": 10,
   "id": "fefe0ff7",
   "metadata": {},
   "outputs": [
    {
     "name": "stdout",
     "output_type": "stream",
     "text": [
      "15\n"
     ]
    }
   ],
   "source": [
    "#4 jumlah digit rekursif\n",
    "def jumlah_digit(n):\n",
    "    if n == 0:\n",
    "        return 0\n",
    "    else:\n",
    "        return n % 10 + jumlah_digit(n // 10)\n",
    "print(jumlah_digit(12345))  # Output: 15 (1 + 2 + 3 + 4 + 5)"
   ]
  },
  {
   "cell_type": "code",
   "execution_count": 11,
   "id": "c0039abe",
   "metadata": {},
   "outputs": [
    {
     "name": "stdout",
     "output_type": "stream",
     "text": [
      "10\n"
     ]
    }
   ],
   "source": [
    "#5 kombinasi rekursif\n",
    "def kombinasi(n, r):\n",
    "    if r == 0 or r == n:\n",
    "        return 1\n",
    "    else:\n",
    "        return kombinasi(n - 1, r - 1) + kombinasi(n - 1, r)\n",
    "print(kombinasi(5, 2))  # Output: 10 (5C2 = 5! / (2! * (5-2)!))"
   ]
  }
 ],
 "metadata": {
  "kernelspec": {
   "display_name": "Python 3",
   "language": "python",
   "name": "python3"
  },
  "language_info": {
   "codemirror_mode": {
    "name": "ipython",
    "version": 3
   },
   "file_extension": ".py",
   "mimetype": "text/x-python",
   "name": "python",
   "nbconvert_exporter": "python",
   "pygments_lexer": "ipython3",
   "version": "3.12.5"
  }
 },
 "nbformat": 4,
 "nbformat_minor": 5
}
